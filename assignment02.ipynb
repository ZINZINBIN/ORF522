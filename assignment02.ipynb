{
 "cells": [
  {
   "cell_type": "code",
   "execution_count": 1,
   "metadata": {},
   "outputs": [],
   "source": [
    "'''\n",
    "    The initial point for this problem is originally set as [2,2,0]. However, the simplex code doesn't find the optimal point. \n",
    "    Thus, I choose another point [2,0,2] and checked that the code works to find the optimal point, which is consistent with CXVPY.\n",
    "'''\n",
    "\n",
    "import numpy as np\n",
    "import numpy.linalg as la\n",
    "import matplotlib.pyplot as plt\n",
    "\n",
    "# setup\n",
    "max_iterations = 20\n",
    "\n",
    "# Problem condition\n",
    "xe = np.array([2,0,2,0,2,0,0], dtype = np.float32) # x = [x1,x2,x3,y1,y2,y3,y4]\n",
    "c = np.array([1,1,-1,0,0,0,0], dtype = np.float32) # cTx = x1 + x2 - x3\n",
    "A = np.array([\n",
    "    [1,0,0,1,0,0,0],\n",
    "    [0,1,0,0,1,0,0],\n",
    "    [0,0,1,0,0,1,0],\n",
    "    [1,1,1,0,0,0,1]\n",
    "], dtype = np.float32)\n",
    "b = np.array([2,2,2,4], dtype=np.float32)\n",
    "B = np.array([0,1,2,3], dtype=np.int32)  # matching index order: [3,4,5]"
   ]
  },
  {
   "cell_type": "code",
   "execution_count": 2,
   "metadata": {},
   "outputs": [],
   "source": [
    "from typing import List, Literal\n",
    "\n",
    "class Simplex:\n",
    "    def __init__(self, c:np.array, A:np.array, b:np.array, B:List):\n",
    "        self.c = c\n",
    "        self.A = A\n",
    "        self.b = b\n",
    "        self.B = B\n",
    "\n",
    "    def choose_index(self, c:np.array, method:Literal[\"Bland\", \"Cost\"]):\n",
    "\n",
    "        if method == 'Bland':\n",
    "            j = sorted(np.where(c < 0)[0])[0]\n",
    "        else:\n",
    "            j = np.where(c<0)[0][np.argmin(c[np.where(c < 0)[0]])]\n",
    "\n",
    "        return j\n",
    "\n",
    "    def solve(self, x_init:np.array, max_iterations: int, method:Literal[\"Bland\", \"Cost\"]):\n",
    "\n",
    "        n_iter = 0\n",
    "        x = x_init.copy()\n",
    "        status = None\n",
    "        B = self.B\n",
    "        c = self.c\n",
    "\n",
    "        while n_iter < max_iterations:\n",
    "\n",
    "            n_iter += 1\n",
    "\n",
    "            A_B = self.A[:,B]\n",
    "            c_B = c[B]\n",
    "\n",
    "            p = la.solve(A_B.T, c_B)\n",
    "            c_ = c - self.A.T @ p\n",
    "\n",
    "            # optimal condition\n",
    "            if np.all(c_ >= 0):\n",
    "                status = \"optimal\"\n",
    "                break\n",
    "\n",
    "            j = self.choose_index(c_, method)\n",
    "\n",
    "            # compute direction\n",
    "            d = np.zeros((len(x),), dtype = np.float32)\n",
    "\n",
    "            d[j] = 1\n",
    "            d[B] = la.solve(A_B, -self.A[:, j].reshape(-1,))\n",
    "\n",
    "            if np.all(d[B] >= 0):\n",
    "                status = \"Unbounded\"\n",
    "                break\n",
    "\n",
    "            d_i = np.where(d[B] < 0)[0]\n",
    "\n",
    "            i = B[d_i[np.argmin(-x[B[d_i]] / d[B[d_i]])]]\n",
    "            step_size = np.min(-x[B[d_i]] / d[B[d_i]])\n",
    "            status = \"Not optimal\"\n",
    "\n",
    "            # Logging\n",
    "            print(\"=\"*30)\n",
    "            print(\"Iteration:{} | status:{}\".format(n_iter, status))\n",
    "            print(\"x:{}\".format(x))\n",
    "            print(\"cTx:{}\".format(self.c @ x))\n",
    "            print(\"A_B:{}\".format(A_B))\n",
    "            print(\"p:{}\".format(p))\n",
    "            print(\"reduced cost:{}\".format(c_))\n",
    "            print(\"Index j:{}\".format(j))\n",
    "            print(\"d_B:{}\".format(d[B]))\n",
    "            print(\"d:{}\".format(d))\n",
    "            print(\"Index i:{}\".format(i))\n",
    "            print(\"step size:{}\".format(step_size))\n",
    "\n",
    "            # update next x\n",
    "            x += step_size * d\n",
    "\n",
    "            # update new basis\n",
    "            B[np.where(B == i)[0]] = j\n",
    "            B = np.array(sorted(B))\n",
    "\n",
    "        print(\"=\" * 30)\n",
    "        print(\"Process ended | status:{}\".format(status))\n",
    "        print(\"x:{}\".format(x))\n",
    "        print(\"cTx:{}\".format(self.c @ x))\n",
    "        print(\"A_B:{}\".format(A_B))\n",
    "        print(\"p:{}\".format(p))\n",
    "        print(\"reduced cost:{}\".format(c_))\n",
    "        print(\"Index j:{}\".format(j))\n",
    "        print(\"d_B:{}\".format(d[B]))\n",
    "        print(\"d:{}\".format(d))\n",
    "        print(\"Index i:{}\".format(i))\n",
    "        print(\"step size:{}\".format(step_size))\n",
    "\n",
    "        return x, B, status"
   ]
  },
  {
   "cell_type": "code",
   "execution_count": 3,
   "metadata": {},
   "outputs": [],
   "source": [
    "# # Example problem\n",
    "# x0 = np.array([0, 0, 0, 20, 20, 20], dtype = np.float32)\n",
    "# B0 = np.array([3, 4, 5])\n",
    "\n",
    "# c = np.array([-10, -12, -12, 0, 0, 0], dtype=np.float32)\n",
    "# A = np.array([[1, 2, 2, 1, 0, 0], [2, 1, 2, 0, 1, 0], [2, 2, 1, 0, 0, 1]], dtype = np.float32)\n",
    "# b = np.array([20, 20, 20], dtype=np.float32)\n",
    "\n",
    "# solver = Simplex(c.copy(), A.copy(), b.copy(), B0.copy())\n",
    "# x, _, status = solver.solve(x0.copy(), max_iterations, method = \"Bland\")"
   ]
  },
  {
   "cell_type": "code",
   "execution_count": 4,
   "metadata": {},
   "outputs": [
    {
     "name": "stdout",
     "output_type": "stream",
     "text": [
      "==============================\n",
      "Iteration:1 | status:Not optimal\n",
      "x:[2. 0. 2. 0. 2. 0. 0.]\n",
      "cTx:0.0\n",
      "A_B:[[1. 0. 0. 1.]\n",
      " [0. 1. 0. 0.]\n",
      " [0. 0. 1. 0.]\n",
      " [1. 1. 1. 0.]]\n",
      "p:[ 0.  0. -2.  1.]\n",
      "reduced cost:[ 0.  0.  0.  0.  0.  2. -1.]\n",
      "Index j:6\n",
      "d_B:[-1.  0.  0.  1.]\n",
      "d:[-1.  0.  0.  1.  0.  0.  1.]\n",
      "Index i:0\n",
      "step size:2.0\n",
      "==============================\n",
      "Iteration:2 | status:Not optimal\n",
      "x:[0. 0. 2. 2. 2. 0. 2.]\n",
      "cTx:-2.0\n",
      "A_B:[[0. 0. 1. 0.]\n",
      " [1. 0. 0. 0.]\n",
      " [0. 1. 0. 0.]\n",
      " [1. 1. 0. 1.]]\n",
      "p:[ 0.  1. -1.  0.]\n",
      "reduced cost:[ 1.  0.  0.  0. -1.  1.  0.]\n",
      "Index j:4\n",
      "d_B:[-1.  0.  0.  1.]\n",
      "d:[ 0. -1.  0.  0.  1.  0.  1.]\n",
      "Index i:1\n",
      "step size:0.0\n",
      "==============================\n",
      "Process ended | status:optimal\n",
      "x:[0. 0. 2. 2. 2. 0. 2.]\n",
      "cTx:-2.0\n",
      "A_B:[[0. 1. 0. 0.]\n",
      " [0. 0. 1. 0.]\n",
      " [1. 0. 0. 0.]\n",
      " [1. 0. 0. 1.]]\n",
      "p:[ 0.  0. -1.  0.]\n",
      "reduced cost:[1. 1. 0. 0. 0. 1. 0.]\n",
      "Index j:4\n",
      "d_B:[0. 0. 1. 1.]\n",
      "d:[ 0. -1.  0.  0.  1.  0.  1.]\n",
      "Index i:1\n",
      "step size:0.0\n"
     ]
    }
   ],
   "source": [
    "# Case 1: Bland's pivoting rule\n",
    "solver = Simplex(c.copy(), A.copy(), b.copy(), B.copy())\n",
    "x, _, status = solver.solve(xe.copy(), max_iterations, method = \"Bland\")"
   ]
  },
  {
   "cell_type": "code",
   "execution_count": 5,
   "metadata": {},
   "outputs": [
    {
     "name": "stdout",
     "output_type": "stream",
     "text": [
      "x: [0. 0. 2. 2. 2. 0. 2.]\n",
      "cTx: -2.0\n",
      "status: optimal\n"
     ]
    }
   ],
   "source": [
    "print(\"x: {}\".format(x))\n",
    "print(\"cTx: {}\".format(c @ x))\n",
    "print(\"status: {}\".format(status))"
   ]
  },
  {
   "cell_type": "code",
   "execution_count": 6,
   "metadata": {},
   "outputs": [
    {
     "name": "stdout",
     "output_type": "stream",
     "text": [
      "==============================\n",
      "Iteration:1 | status:Not optimal\n",
      "x:[2. 0. 2. 0. 2. 0. 0.]\n",
      "cTx:0.0\n",
      "A_B:[[1. 0. 0. 1.]\n",
      " [0. 1. 0. 0.]\n",
      " [0. 0. 1. 0.]\n",
      " [1. 1. 1. 0.]]\n",
      "p:[ 0.  0. -2.  1.]\n",
      "reduced cost:[ 0.  0.  0.  0.  0.  2. -1.]\n",
      "Index j:6\n",
      "d_B:[-1.  0.  0.  1.]\n",
      "d:[-1.  0.  0.  1.  0.  0.  1.]\n",
      "Index i:0\n",
      "step size:2.0\n",
      "==============================\n",
      "Iteration:2 | status:Not optimal\n",
      "x:[0. 0. 2. 2. 2. 0. 2.]\n",
      "cTx:-2.0\n",
      "A_B:[[0. 0. 1. 0.]\n",
      " [1. 0. 0. 0.]\n",
      " [0. 1. 0. 0.]\n",
      " [1. 1. 0. 1.]]\n",
      "p:[ 0.  1. -1.  0.]\n",
      "reduced cost:[ 1.  0.  0.  0. -1.  1.  0.]\n",
      "Index j:4\n",
      "d_B:[-1.  0.  0.  1.]\n",
      "d:[ 0. -1.  0.  0.  1.  0.  1.]\n",
      "Index i:1\n",
      "step size:0.0\n",
      "==============================\n",
      "Process ended | status:optimal\n",
      "x:[0. 0. 2. 2. 2. 0. 2.]\n",
      "cTx:-2.0\n",
      "A_B:[[0. 1. 0. 0.]\n",
      " [0. 0. 1. 0.]\n",
      " [1. 0. 0. 0.]\n",
      " [1. 0. 0. 1.]]\n",
      "p:[ 0.  0. -1.  0.]\n",
      "reduced cost:[1. 1. 0. 0. 0. 1. 0.]\n",
      "Index j:4\n",
      "d_B:[0. 0. 1. 1.]\n",
      "d:[ 0. -1.  0.  0.  1.  0.  1.]\n",
      "Index i:1\n",
      "step size:0.0\n"
     ]
    }
   ],
   "source": [
    "# Case 2: Most negative reduced cost index\n",
    "solver = Simplex(c.copy(), A.copy(), b.copy(), B.copy())\n",
    "x, _, status = solver.solve(xe.copy(), max_iterations, method=\"Cost\")"
   ]
  },
  {
   "cell_type": "code",
   "execution_count": 7,
   "metadata": {},
   "outputs": [
    {
     "name": "stdout",
     "output_type": "stream",
     "text": [
      "x: [0. 0. 2. 2. 2. 0. 2.]\n",
      "cTx: -2.0\n",
      "status: optimal\n"
     ]
    }
   ],
   "source": [
    "print(\"x: {}\".format(x))\n",
    "print(\"cTx: {}\".format(c @ x))\n",
    "print(\"status: {}\".format(status))"
   ]
  },
  {
   "cell_type": "code",
   "execution_count": 10,
   "metadata": {},
   "outputs": [
    {
     "name": "stdout",
     "output_type": "stream",
     "text": [
      "x:[-0. -0.  2.  2.  2.  0.  2.]\n",
      "cTx:-2.0\n"
     ]
    }
   ],
   "source": [
    "# Compare the result with CXVPY\n",
    "import cvxpy as cp\n",
    "\n",
    "x = cp.Variable(7)\n",
    "prob = cp.Problem(cp.Minimize(c.T @ x), [A @ x == b, -x <= 0])\n",
    "prob.solve()\n",
    "\n",
    "# Print result.\n",
    "print(\"x:{}\".format(np.round(x.value)))\n",
    "print(\"cTx:{}\".format(np.round(prob.value)))"
   ]
  }
 ],
 "metadata": {
  "kernelspec": {
   "display_name": "research-env",
   "language": "python",
   "name": "python3"
  },
  "language_info": {
   "codemirror_mode": {
    "name": "ipython",
    "version": 3
   },
   "file_extension": ".py",
   "mimetype": "text/x-python",
   "name": "python",
   "nbconvert_exporter": "python",
   "pygments_lexer": "ipython3",
   "version": "3.9.7"
  }
 },
 "nbformat": 4,
 "nbformat_minor": 2
}
